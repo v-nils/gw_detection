{
 "cells": [
  {
   "cell_type": "code",
   "id": "initial_id",
   "metadata": {
    "collapsed": true,
    "ExecuteTime": {
     "end_time": "2024-06-16T19:49:13.687095Z",
     "start_time": "2024-06-16T19:49:11.188189Z"
    }
   },
   "source": [
    "import src.gw_model as gw\n",
    "from src.gw_model import GravWave\n",
    "import matplotlib.pyplot as plt\n",
    "from matplotlib import gridspec\n",
    "import warnings\n",
    "warnings.filterwarnings(\"ignore\")\n",
    "\n",
    "\n",
    "# -- Global Variables -- #\n",
    "# -- -- -- -- -- -- -- -- #\n",
    "\n",
    "plt.style.use(['science', 'ieee'])\n",
    "gw_root_path: str = r'../data/raw_data/g2net-gravitational-wave-detection'\n",
    "training_label_path: str = r'../data/raw_data/g2net-gravitational-wave-detection/training_labels.csv'\n",
    "waveform_plots: str = r'../data/results/plots/waveforms'\n",
    "\n",
    "wave = GravWave('00001f4945')\n",
    "wave.load_data()\n",
    "wave.decompose_wave()"
   ],
   "outputs": [
    {
     "name": "stderr",
     "output_type": "stream",
     "text": [
      "C:\\Users\\nilse\\anaconda3\\envs\\gw_detection\\Lib\\site-packages\\nnAudio\\Spectrogram.py:4: Warning: importing Spectrogram subpackage will be deprecated soon. You should import the feature extractor from the feature subpackage. See actual documentation.\n",
      "  warnings.warn(\n",
      "C:\\Users\\nilse\\anaconda3\\envs\\gw_detection\\Lib\\site-packages\\nnAudio\\utils.py:429: SyntaxWarning: If fmax is given, n_bins will be ignored\n",
      "  warnings.warn(\"If fmax is given, n_bins will be ignored\", SyntaxWarning)\n"
     ]
    },
    {
     "name": "stdout",
     "output_type": "stream",
     "text": [
      "CQT kernels created, time used = 0.0083 seconds\n",
      "Get wave from path:  ../data/raw_data/g2net-gravitational-wave-detection/train/0/0/0/00001f4945.npy\n"
     ]
    },
    {
     "ename": "ValueError",
     "evalue": "not enough values to unpack (expected 3, got 2)",
     "output_type": "error",
     "traceback": [
      "\u001B[1;31m---------------------------------------------------------------------------\u001B[0m",
      "\u001B[1;31mValueError\u001B[0m                                Traceback (most recent call last)",
      "Cell \u001B[1;32mIn[1], line 19\u001B[0m\n\u001B[0;32m     17\u001B[0m wave \u001B[38;5;241m=\u001B[39m GravWave(\u001B[38;5;124m'\u001B[39m\u001B[38;5;124m00001f4945\u001B[39m\u001B[38;5;124m'\u001B[39m)\n\u001B[0;32m     18\u001B[0m wave\u001B[38;5;241m.\u001B[39mload_data()\n\u001B[1;32m---> 19\u001B[0m wave\u001B[38;5;241m.\u001B[39mdecompose_wave()\n",
      "File \u001B[1;32m~\\Documents\\projects\\gw_detection\\src\\gw_model.py:104\u001B[0m, in \u001B[0;36mGravWave.decompose_wave\u001B[1;34m(self, transform)\u001B[0m\n\u001B[0;32m     96\u001B[0m \u001B[38;5;250m\u001B[39m\u001B[38;5;124;03m\"\"\"\u001B[39;00m\n\u001B[0;32m     97\u001B[0m \u001B[38;5;124;03mDecompose the wave into its frequency components.\u001B[39;00m\n\u001B[0;32m     98\u001B[0m \n\u001B[0;32m     99\u001B[0m \u001B[38;5;124;03m:param transform:\u001B[39;00m\n\u001B[0;32m    100\u001B[0m \u001B[38;5;124;03m:return:\u001B[39;00m\n\u001B[0;32m    101\u001B[0m \u001B[38;5;124;03m\"\"\"\u001B[39;00m\n\u001B[0;32m    103\u001B[0m g_wave \u001B[38;5;241m=\u001B[39m np\u001B[38;5;241m.\u001B[39mconcatenate(\u001B[38;5;28mself\u001B[39m\u001B[38;5;241m.\u001B[39mwave, axis\u001B[38;5;241m=\u001B[39m\u001B[38;5;241m0\u001B[39m)\n\u001B[1;32m--> 104\u001B[0m bHP, aHP, _ \u001B[38;5;241m=\u001B[39m signal\u001B[38;5;241m.\u001B[39mbutter(\u001B[38;5;241m8\u001B[39m, (\u001B[38;5;241m20\u001B[39m, \u001B[38;5;241m500\u001B[39m), btype\u001B[38;5;241m=\u001B[39m\u001B[38;5;124m'\u001B[39m\u001B[38;5;124mbandpass\u001B[39m\u001B[38;5;124m'\u001B[39m, fs\u001B[38;5;241m=\u001B[39m\u001B[38;5;241m2048\u001B[39m)\n\u001B[0;32m    105\u001B[0m window \u001B[38;5;241m=\u001B[39m signal\u001B[38;5;241m.\u001B[39mtukey(\u001B[38;5;241m4096\u001B[39m \u001B[38;5;241m*\u001B[39m \u001B[38;5;241m3\u001B[39m, \u001B[38;5;241m0.2\u001B[39m)\n\u001B[0;32m    106\u001B[0m g_wave \u001B[38;5;241m*\u001B[39m\u001B[38;5;241m=\u001B[39m window\n",
      "\u001B[1;31mValueError\u001B[0m: not enough values to unpack (expected 3, got 2)"
     ]
    }
   ],
   "execution_count": 1
  },
  {
   "metadata": {},
   "cell_type": "code",
   "source": [
    "fig = plt.figure(figsize=(14, 8))\n",
    "gs = gridspec.GridSpec(3, 3, width_ratios=[3, 1, 2])\n",
    "\n",
    "for i in range(3):\n",
    "    ax_wave = fig.add_subplot(gs[i, 0])\n",
    "    ax_density = fig.add_subplot(gs[i, 1], sharey=ax_wave)\n",
    "    ax_image = fig.add_subplot(gs[i, 2])\n",
    "\n",
    "    wave.plot_wave(ax_wave, ax_density=ax_density, ax_image=ax_image, which=i)\n",
    "\n",
    "plt.tight_layout()\n",
    "plt.show()"
   ],
   "id": "9fa8bedd18e61b98",
   "outputs": [],
   "execution_count": null
  },
  {
   "metadata": {},
   "cell_type": "code",
   "source": "wave.full_wave.shape",
   "id": "e9121286d315b8bd",
   "outputs": [],
   "execution_count": null
  },
  {
   "metadata": {},
   "cell_type": "code",
   "source": "",
   "id": "305383c5372edc40",
   "outputs": [],
   "execution_count": null
  }
 ],
 "metadata": {
  "kernelspec": {
   "display_name": "Python 3",
   "language": "python",
   "name": "python3"
  },
  "language_info": {
   "codemirror_mode": {
    "name": "ipython",
    "version": 2
   },
   "file_extension": ".py",
   "mimetype": "text/x-python",
   "name": "python",
   "nbconvert_exporter": "python",
   "pygments_lexer": "ipython2",
   "version": "2.7.6"
  }
 },
 "nbformat": 4,
 "nbformat_minor": 5
}
